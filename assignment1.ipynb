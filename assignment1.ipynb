{
  "nbformat": 4,
  "nbformat_minor": 0,
  "metadata": {
    "colab": {
      "name": "assignment1.ipynb",
      "provenance": [],
      "collapsed_sections": [],
      "authorship_tag": "ABX9TyPp17WXzAv8BKtFZuRP8BXO",
      "include_colab_link": true
    },
    "kernelspec": {
      "name": "python3",
      "display_name": "Python 3"
    },
    "language_info": {
      "name": "python"
    }
  },
  "cells": [
    {
      "cell_type": "markdown",
      "metadata": {
        "id": "view-in-github",
        "colab_type": "text"
      },
      "source": [
        "<a href=\"https://colab.research.google.com/github/UdayBattula/pythonnew/blob/module1/assignment1.ipynb\" target=\"_parent\"><img src=\"https://colab.research.google.com/assets/colab-badge.svg\" alt=\"Open In Colab\"/></a>"
      ]
    },
    {
      "cell_type": "markdown",
      "source": [
        "#Accept input from user and store it in variable and print the value.\n"
      ],
      "metadata": {
        "id": "4TvWFWx2UQUk"
      }
    },
    {
      "cell_type": "code",
      "source": [
        "a=input(\"Enter any value:- \")\n",
        "b=a\n",
        "print(a)"
      ],
      "metadata": {
        "colab": {
          "base_uri": "https://localhost:8080/"
        },
        "id": "ZLB2tNY3UYXg",
        "outputId": "b7d7b360-566f-41cf-b588-bcecef999dfa"
      },
      "execution_count": null,
      "outputs": [
        {
          "output_type": "stream",
          "name": "stdout",
          "text": [
            "Enter any value:- JHJGVF B\n",
            "JHJGVF B\n"
          ]
        }
      ]
    },
    {
      "cell_type": "markdown",
      "source": [
        "#x Use of print statements and use of (.format )for printing different data types.\n"
      ],
      "metadata": {
        "id": "_qWWeMFaVH4N"
      }
    },
    {
      "cell_type": "code",
      "source": [
        "a=51;\n",
        "print(type(a));\n",
        "b=bool(a);\n",
        "print(b);\n",
        "print(type(b));\n",
        "e=str(a);\n",
        "print(e);\n",
        "print(type(e));\n",
        "c=complex(a);\n",
        "print(c);\n",
        "print(type(c));\n",
        "d=int(a);\n",
        "print(d);\n",
        "print(type(d));\n"
      ],
      "metadata": {
        "id": "ytPtoApTUwKl",
        "colab": {
          "base_uri": "https://localhost:8080/"
        },
        "outputId": "de0febf5-333a-4ce2-d5ba-51582b3e2c28"
      },
      "execution_count": null,
      "outputs": [
        {
          "output_type": "stream",
          "name": "stdout",
          "text": [
            "<class 'int'>\n",
            "True\n",
            "<class 'bool'>\n",
            "51\n",
            "<class 'str'>\n",
            "(51+0j)\n",
            "<class 'complex'>\n",
            "51\n",
            "<class 'int'>\n"
          ]
        }
      ]
    },
    {
      "cell_type": "markdown",
      "source": [
        "#Take 2 numbers as user input and add, multiply, divide, subtract, remainder and print the output"
      ],
      "metadata": {
        "id": "dE4aJVLZmK-p"
      }
    },
    {
      "cell_type": "code",
      "source": [
        "num1=int(input())\n",
        "num2=int(input())\n",
        "sum=num1+num2\n",
        "multi=num1*num2\n",
        "div=num1/num2\n",
        "sub=num1-num2\n",
        "print(sum,multi,div,sub)"
      ],
      "metadata": {
        "colab": {
          "base_uri": "https://localhost:8080/"
        },
        "id": "IeyzB6fymNk-",
        "outputId": "35cff4d2-beff-47b8-cf81-82414fb0ba4d"
      },
      "execution_count": null,
      "outputs": [
        {
          "output_type": "stream",
          "name": "stdout",
          "text": [
            "55\n",
            "5\n",
            "60 275 11.0 50\n"
          ]
        }
      ]
    },
    {
      "cell_type": "markdown",
      "source": [
        "#Conversion of one unit to another (such as hours to minutes, miles to km and etc)"
      ],
      "metadata": {
        "id": "ix5fwXS9mrVl"
      }
    },
    {
      "cell_type": "code",
      "source": [
        "hour=int(input())\n",
        "miles=float(input())\n",
        "min=hour*60\n",
        "km=1.60934*miles\n",
        "print(min,km)"
      ],
      "metadata": {
        "colab": {
          "base_uri": "https://localhost:8080/"
        },
        "id": "Vdtq8UuGmhpp",
        "outputId": "6085a3e4-9d04-420b-86e6-90cfec4693f4"
      },
      "execution_count": null,
      "outputs": [
        {
          "output_type": "stream",
          "name": "stdout",
          "text": [
            "25\n",
            "25\n",
            "1500 40.2335\n"
          ]
        }
      ]
    },
    {
      "cell_type": "markdown",
      "source": [
        "####Usage of mathematical functions in python like math.ceil, floor, fabs, fmod, trunc,pow, sqrt etc"
      ],
      "metadata": {
        "id": "KAXlnMeifQCp"
      }
    },
    {
      "cell_type": "code",
      "source": [
        "import math\n",
        "print(math.ceil(86.9))\n",
        "print(math.floor(39.9))\n",
        "print(math.fmod(5, 7))\n",
        "print(math.fabs(-8))\n",
        "print(math.trunc(65.6))\n",
        "x = pow(6, 9)\n",
        "print(x)\n",
        "print (math.sqrt(51))"
      ],
      "metadata": {
        "colab": {
          "base_uri": "https://localhost:8080/"
        },
        "id": "PGBMO6YAZ2S-",
        "outputId": "28d59785-8459-49b0-85eb-73c7c5ee5138"
      },
      "execution_count": null,
      "outputs": [
        {
          "output_type": "stream",
          "name": "stdout",
          "text": [
            "87\n",
            "39\n",
            "5.0\n",
            "8.0\n",
            "65\n",
            "10077696\n",
            "7.14142842854285\n"
          ]
        }
      ]
    },
    {
      "cell_type": "markdown",
      "source": [
        "## Building a mathematical calculator that can perform operations according to user input."
      ],
      "metadata": {
        "id": "mj0vt66Yg6Zm"
      }
    },
    {
      "cell_type": "code",
      "source": [
        "no1 = float(input(\"Enter 1st number: \"))\n",
        "no2 = float(input(\"Enter 2nd number: \"))\n",
        "print(\"Operation: +, -, *, / ??\")\n",
        "select = input(\"Select operation: \")\n",
        "if select == \"+\":\n",
        "    print(no1, \"+\", no2, \"=\", no1+no2)\n",
        "elif select == \"-\":\n",
        "    print(no1, \"-\", no2, \"=\", no1-no2)\n",
        "elif select == \"*\":\n",
        "    print(no1, \"*\", no2, \"=\", no1*no2)\n",
        "elif select == \"/\":\n",
        "    print(no1, \"/\", no2, \"=\", no1/no2)\n",
        "else:\n",
        "    print(\"Check your input\")"
      ],
      "metadata": {
        "colab": {
          "base_uri": "https://localhost:8080/"
        },
        "id": "0n9CG_kZfr3N",
        "outputId": "c5ac3902-2150-4e9d-bcb2-5c3d58f554d0"
      },
      "execution_count": null,
      "outputs": [
        {
          "output_type": "stream",
          "name": "stdout",
          "text": [
            "Enter 1st number: 54\n",
            "Enter 2nd number: 35\n",
            "Operation: +, -, *, / ??\n",
            "Select operation: -\n",
            "54.0 - 35.0 = 19.0\n"
          ]
        }
      ]
    },
    {
      "cell_type": "markdown",
      "source": [
        "###Accepting 5 different subject marks from user and displaying the grade of the student"
      ],
      "metadata": {
        "id": "ZvZ_ShOyiWc7"
      }
    },
    {
      "cell_type": "code",
      "source": [
        "english=int(input())\n",
        "social=int(input())\n",
        "politics=int(input())\n",
        "science=int(input())\n",
        "math=int(input())\n",
        "total=(english+science+politics+social+math)/5\n",
        "if total > 90:\n",
        "  print(\"A\")\n",
        "elif total > 80 :\n",
        "  print(\"B\")\n",
        "elif total > 70 :\n",
        "  print(\"C\")\n",
        "elif total > 60 :\n",
        "  print(\"D\")    \n",
        "elif total > 50 :\n",
        "  print(\"E\")\n",
        "elif total > 40 :\n",
        "  print(\"F\")"
      ],
      "metadata": {
        "colab": {
          "base_uri": "https://localhost:8080/"
        },
        "id": "uWJZWJC0ixZ1",
        "outputId": "17742e38-9481-428b-8d97-3a7356773292"
      },
      "execution_count": null,
      "outputs": [
        {
          "output_type": "stream",
          "name": "stdout",
          "text": [
            "95\n",
            "5\n",
            "95\n",
            "95\n",
            "100\n",
            "C\n"
          ]
        }
      ]
    },
    {
      "cell_type": "markdown",
      "source": [
        "# Printing all even numbers, odd numbers, count of even numbers, count of odd numbers within a given range.\n"
      ],
      "metadata": {
        "id": "N1-jeP8KlpWS"
      }
    },
    {
      "cell_type": "code",
      "source": [
        "no1=int(input())\n",
        "no2=int(input())\n",
        "c=0  #c is count of even numbers\n",
        "o=0 \n",
        "for x in range(no1,no2):\n",
        "  if(x%2==0) :\n",
        "    print(x,\"is even\")\n",
        "    c=c+1\n",
        "  elif(x%2!=0) :\n",
        "    print(x,\"is odd\")\n",
        "    o=o+1\n",
        "print(c,\"Num of odd nums in the given range\")\n",
        "print(o,\"num of even nums in the given range\")"
      ],
      "metadata": {
        "colab": {
          "base_uri": "https://localhost:8080/"
        },
        "id": "fqZilBMgk6Ng",
        "outputId": "8121321d-4170-40f0-8858-fcdcaf868fc5"
      },
      "execution_count": null,
      "outputs": [
        {
          "output_type": "stream",
          "name": "stdout",
          "text": [
            "1\n",
            "5\n",
            "1 is odd\n",
            "2 is even\n",
            "3 is odd\n",
            "4 is even\n",
            "2 Num of odd nums in the given range\n",
            "2 num of even nums in the given range\n"
          ]
        }
      ]
    },
    {
      "cell_type": "markdown",
      "source": [
        "###Compute the factorial of a given number"
      ],
      "metadata": {
        "id": "LevvRd5womy2"
      }
    },
    {
      "cell_type": "code",
      "source": [
        "number = int(input(\"Enter a no: \"))    \n",
        "factorial = 1    \n",
        "if number < 0:    \n",
        "   print(\" Factorial does not exist for negative nos\")    \n",
        "elif number == 0:    \n",
        "   print(\"The factorial of 0 is 1\")    \n",
        "else:    \n",
        "   for i in range(1,number + 1):    \n",
        "       factorial = factorial*i    \n",
        "   print(\"The factorial of\",number,\"is\",factorial) "
      ],
      "metadata": {
        "colab": {
          "base_uri": "https://localhost:8080/"
        },
        "id": "lufqovwnmC8k",
        "outputId": "b4c67c1c-2e05-47a1-e997-a1430468e60d"
      },
      "execution_count": null,
      "outputs": [
        {
          "output_type": "stream",
          "name": "stdout",
          "text": [
            "Enter a no: 5\n",
            "The factorial of 5 is 120\n"
          ]
        }
      ]
    },
    {
      "cell_type": "markdown",
      "source": [
        "###Compute GCD of two given numbers"
      ],
      "metadata": {
        "id": "SlHHJfbipGOm"
      }
    },
    {
      "cell_type": "code",
      "source": [
        "a =int(input(\"Enter a no: \")) \n",
        "b =int(input(\"Enter a no: \"))\n",
        "if a > b:\n",
        "  a, b = b, a\n",
        "for i in range(1,a+1):\n",
        "  if a%i == 0 and b%i == 0:\n",
        "    gcd = i\n",
        "\n",
        "print(\"GCD of\", a, \"and\", b, \"is:\", gcd)"
      ],
      "metadata": {
        "colab": {
          "base_uri": "https://localhost:8080/"
        },
        "id": "7hZG71VlouRy",
        "outputId": "6116be2e-bc4a-45c9-f782-7cb2c14aed2b"
      },
      "execution_count": null,
      "outputs": [
        {
          "output_type": "stream",
          "name": "stdout",
          "text": [
            "Enter a no: 5\n",
            "Enter a no: 6\n",
            "GCD of 5 and 6 is: 1\n"
          ]
        }
      ]
    },
    {
      "cell_type": "markdown",
      "source": [
        "###Generate Fibonacci series up to N numbers\n"
      ],
      "metadata": {
        "id": "ZA2E9SwhqNnS"
      }
    },
    {
      "cell_type": "code",
      "source": [
        "n = int(input(\"Series Upto= ??\"))\n",
        "num1, num2 = 0, 1\n",
        "c = 0\n",
        "print(\"Fibonacci sequence:\")\n",
        "while c < n:\n",
        "       print(num1)\n",
        "       nth = num1 + num2\n",
        "       num1 = num2\n",
        "       num2 = nth\n",
        "       c += 1"
      ],
      "metadata": {
        "colab": {
          "base_uri": "https://localhost:8080/"
        },
        "id": "FLE2z72ypMDJ",
        "outputId": "edd9773a-3f35-4def-ce6f-61a8fcf01d96"
      },
      "execution_count": null,
      "outputs": [
        {
          "output_type": "stream",
          "name": "stdout",
          "text": [
            "Series Upto= ??9\n",
            "Fibonacci sequence:\n",
            "0\n",
            "1\n",
            "1\n",
            "2\n",
            "3\n",
            "5\n",
            "8\n",
            "13\n",
            "21\n"
          ]
        }
      ]
    },
    {
      "cell_type": "markdown",
      "source": [
        "###Check whether the given input is palindrome"
      ],
      "metadata": {
        "id": "q_9qZsskqyS3"
      }
    },
    {
      "cell_type": "code",
      "source": [
        "no=int(input(\"Enter a num:\"))\n",
        "a=no\n",
        "reverse=0\n",
        "while(no>0):\n",
        "    dgiit=no%10\n",
        "    reverse=reverse*10+dgiit\n",
        "    no=no//10\n",
        "if(a==reverse):\n",
        "    print(\"palindrome!\")\n",
        "else:\n",
        "    print(\"Not a palindrome\")"
      ],
      "metadata": {
        "colab": {
          "base_uri": "https://localhost:8080/"
        },
        "id": "TxeXGj6xqqT2",
        "outputId": "89f0ab0c-435b-4d57-efcf-9ad08c6b3d02"
      },
      "execution_count": null,
      "outputs": [
        {
          "output_type": "stream",
          "name": "stdout",
          "text": [
            "Enter a num:531\n",
            "Not a palindrome\n"
          ]
        }
      ]
    },
    {
      "cell_type": "markdown",
      "source": [
        "###Check whether the given input is strong Number"
      ],
      "metadata": {
        "id": "SmYTHxvksk1G"
      }
    },
    {
      "cell_type": "code",
      "source": [
        "num=int(input(\"Enter a number:\"))\n",
        "sum=0\n",
        "act=num\n",
        "while(num):\n",
        "    i=1\n",
        "    f=1\n",
        "    r=num%10\n",
        "    while(i<=r):\n",
        "        f=f*i\n",
        "        i=i+1\n",
        "    sum=sum+f\n",
        "    num=num//10\n",
        "if(sum==act):\n",
        "    print(\"The number is a strong number\")\n",
        "else:\n",
        "    print(\"The number is not a strong number\")"
      ],
      "metadata": {
        "colab": {
          "base_uri": "https://localhost:8080/"
        },
        "id": "4tGqx8MfsU9y",
        "outputId": "0ea566ab-3466-44af-de96-7fcd03d3c9bf"
      },
      "execution_count": null,
      "outputs": [
        {
          "output_type": "stream",
          "name": "stdout",
          "text": [
            "Enter a number:413\n",
            "The number is not a strong number\n"
          ]
        }
      ]
    },
    {
      "cell_type": "markdown",
      "source": [
        "###Check whether the given input is perfect"
      ],
      "metadata": {
        "id": "rdu5TF9hzgLq"
      }
    },
    {
      "cell_type": "code",
      "source": [
        "no=int(input(\"Enter a number:\"))\n",
        "s=0\n",
        "for i in range(1, no):\n",
        "    if(no % i == 0):\n",
        "        s = s + i\n",
        "if (s == no):\n",
        "    print(\"Perfect number\")\n",
        "else:\n",
        "    print(\"not a Perfect number\")"
      ],
      "metadata": {
        "colab": {
          "base_uri": "https://localhost:8080/"
        },
        "id": "kNB3rqJYzXOr",
        "outputId": "d1e7f011-a5bb-4b28-e71c-5ebaeeabec55"
      },
      "execution_count": null,
      "outputs": [
        {
          "output_type": "stream",
          "name": "stdout",
          "text": [
            "Enter a number:64\n",
            "not a Perfect number\n"
          ]
        }
      ]
    },
    {
      "cell_type": "markdown",
      "source": [
        "##Compute compound interest using loop for a certain principal and interest amount"
      ],
      "metadata": {
        "id": "K8gZjP43zzvx"
      }
    },
    {
      "cell_type": "code",
      "source": [
        "x=int(input(\"principle amount:\"))\n",
        "rate=int(input(\"rate:\"))\n",
        "years=int(input(\"number of years:\"))\n",
        "for i in range(years):\n",
        "    x=x+((x*rate)/100)\n",
        "print(x)"
      ],
      "metadata": {
        "colab": {
          "base_uri": "https://localhost:8080/"
        },
        "id": "oVoNB_JozpSX",
        "outputId": "73584e05-53e8-48d9-8a8d-ffe1731a4cf6"
      },
      "execution_count": null,
      "outputs": [
        {
          "output_type": "stream",
          "name": "stdout",
          "text": [
            "principle amount:35\n",
            "rate:54\n",
            "number of years:2\n",
            "83.006\n"
          ]
        }
      ]
    }
  ]
}