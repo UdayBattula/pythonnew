{
  "nbformat": 4,
  "nbformat_minor": 0,
  "metadata": {
    "colab": {
      "name": "22-03-22/basic sums.ipynb",
      "provenance": [],
      "collapsed_sections": [],
      "authorship_tag": "ABX9TyP8ao3KqdCXPSHCwxf3Ikfy",
      "include_colab_link": true
    },
    "kernelspec": {
      "name": "python3",
      "display_name": "Python 3"
    },
    "language_info": {
      "name": "python"
    }
  },
  "cells": [
    {
      "cell_type": "markdown",
      "metadata": {
        "id": "view-in-github",
        "colab_type": "text"
      },
      "source": [
        "<a href=\"https://colab.research.google.com/github/UdayBattula/pythonnew/blob/module1/22_03_22_basic_sums.ipynb\" target=\"_parent\"><img src=\"https://colab.research.google.com/assets/colab-badge.svg\" alt=\"Open In Colab\"/></a>"
      ]
    },
    {
      "cell_type": "markdown",
      "source": [
        "## Factorial"
      ],
      "metadata": {
        "id": "YPz8yx_u1--3"
      }
    },
    {
      "cell_type": "code",
      "source": [
        "num = int(input(\"Enter a number: \"))    \n",
        "factorial = 1    \n",
        "if num < 0:    \n",
        "   print(\" Factorial does not exist for negative numbers\")    \n",
        "elif num == 0:    \n",
        "   print(\"The factorial of 0 is 1\")    \n",
        "else:    \n",
        "   for i in range(1,num + 1):    \n",
        "       factorial = factorial*i    \n",
        "   print(\"The factorial of\",num,\"is\",factorial)   "
      ],
      "metadata": {
        "colab": {
          "base_uri": "https://localhost:8080/"
        },
        "id": "5SLGOiWJ2ILL",
        "outputId": "0a8111b3-9fdf-44d5-a357-5feec29ac83c"
      },
      "execution_count": null,
      "outputs": [
        {
          "output_type": "stream",
          "name": "stdout",
          "text": [
            "Enter a number: 9\n",
            "The factorial of 9 is 362880\n"
          ]
        }
      ]
    },
    {
      "cell_type": "markdown",
      "source": [
        "###Find Roots of a Quadratic Equation\n"
      ],
      "metadata": {
        "id": "4Tm7VS4_2gCI"
      }
    },
    {
      "cell_type": "code",
      "source": [
        "a=int(input())\n",
        "b = int(input())\n",
        "c = int(input())\n",
        "d = (b**2) - (4*a*c)\n",
        "r1 = (-b-c*(d**1/2))/(2*a)\n",
        "r2 = (-b+c*(d**1/2))/(2*a)\n",
        "print(r1,r2)"
      ],
      "metadata": {
        "colab": {
          "base_uri": "https://localhost:8080/"
        },
        "id": "STCsEKu52lL9",
        "outputId": "09573a81-a2d0-4c90-9ed1-b14ba098fce4"
      },
      "execution_count": null,
      "outputs": [
        {
          "output_type": "stream",
          "name": "stdout",
          "text": [
            "8\n",
            "5\n",
            "6\n",
            "31.0 -31.625\n"
          ]
        }
      ]
    },
    {
      "cell_type": "markdown",
      "source": [
        "##Check whether number is a palindrome or not"
      ],
      "metadata": {
        "id": "fjb01agF3Na7"
      }
    },
    {
      "cell_type": "code",
      "source": [
        "num=int(input(\"Enter a number:\"))\n",
        "a=num\n",
        "rev=0\n",
        "while(num>0):\n",
        "    dig=num%10\n",
        "    rev=rev*10+dig\n",
        "    num=num//10\n",
        "if(a==rev):\n",
        "    print(\"The number is palindrome!\")\n",
        "else:\n",
        "    print(\"Not a palindrome!\")"
      ],
      "metadata": {
        "colab": {
          "base_uri": "https://localhost:8080/"
        },
        "id": "09Qg_hq93OpY",
        "outputId": "e08ed2d9-c89e-460d-d757-eefefcf36d90"
      },
      "execution_count": null,
      "outputs": [
        {
          "output_type": "stream",
          "name": "stdout",
          "text": [
            "Enter a number:6565\n",
            "Not a palindrome!\n"
          ]
        }
      ]
    },
    {
      "cell_type": "markdown",
      "source": [
        "##Check whether number is perfect or not"
      ],
      "metadata": {
        "id": "HOhNW36i3ee0"
      }
    },
    {
      "cell_type": "code",
      "source": [
        "num=int(input(\"Enter a number:\"))\n",
        "sum=0\n",
        "for i in range(1, num):\n",
        "    if(num % i == 0):\n",
        "        sum = sum + i\n",
        "if (sum == num):\n",
        "    print(\"Perfect Number\")\n",
        "else:\n",
        "    print(\"not a Perfect Number\")"
      ],
      "metadata": {
        "colab": {
          "base_uri": "https://localhost:8080/"
        },
        "id": "SOiSuvPW3ffv",
        "outputId": "a4c44667-b483-41dd-c13f-2d9b71e62b23"
      },
      "execution_count": null,
      "outputs": [
        {
          "output_type": "stream",
          "name": "stdout",
          "text": [
            "Enter a number:565\n",
            "not a Perfect Number\n"
          ]
        }
      ]
    },
    {
      "cell_type": "markdown",
      "source": [
        "## print chukka pattern\n"
      ],
      "metadata": {
        "id": "VhLQRDUl3qoV"
      }
    },
    {
      "cell_type": "code",
      "source": [
        "n=int(input())\n",
        "i=0\n",
        "while i < n :\n",
        "  i=i+1\n",
        "  print(i*\"*\")"
      ],
      "metadata": {
        "colab": {
          "base_uri": "https://localhost:8080/"
        },
        "id": "DFIftI4T3s-E",
        "outputId": "29e00192-42ea-4d5e-df72-e1bb02f8047f"
      },
      "execution_count": null,
      "outputs": [
        {
          "output_type": "stream",
          "name": "stdout",
          "text": [
            "9\n",
            "*\n",
            "**\n",
            "***\n",
            "****\n",
            "*****\n",
            "******\n",
            "*******\n",
            "********\n",
            "*********\n"
          ]
        }
      ]
    }
  ]
}