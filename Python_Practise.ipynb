{
  "nbformat": 4,
  "nbformat_minor": 0,
  "metadata": {
    "colab": {
      "name": "Python_Practise.ipynb",
      "provenance": [],
      "authorship_tag": "ABX9TyN5lAyY2059OK9qx5953xnt",
      "include_colab_link": true
    },
    "kernelspec": {
      "name": "python3",
      "display_name": "Python 3"
    },
    "language_info": {
      "name": "python"
    }
  },
  "cells": [
    {
      "cell_type": "markdown",
      "metadata": {
        "id": "view-in-github",
        "colab_type": "text"
      },
      "source": [
        "<a href=\"https://colab.research.google.com/github/UdayBattula/pythonnew/blob/module1/Python_Practise.ipynb\" target=\"_parent\"><img src=\"https://colab.research.google.com/assets/colab-badge.svg\" alt=\"Open In Colab\"/></a>"
      ]
    },
    {
      "cell_type": "code",
      "execution_count": null,
      "metadata": {
        "colab": {
          "base_uri": "https://localhost:8080/"
        },
        "id": "NwzMZ6JWIlap",
        "outputId": "6341d7fd-8c39-48b2-b7f1-0f497a87f709"
      },
      "outputs": [
        {
          "output_type": "stream",
          "name": "stdout",
          "text": [
            "35.0\n",
            "<class 'int'>\n",
            "<class 'float'>\n",
            "<class 'int'>\n"
          ]
        }
      ],
      "source": [
        "a=20\n",
        "b=50\n",
        "avg=(a+b)/2\n",
        "print(avg)\n",
        "print(type(b))\n",
        "print(type(avg))\n",
        "print(type(a))"
      ]
    },
    {
      "cell_type": "code",
      "source": [
        "a=int(input(\"Enter a number1 \"))"
      ],
      "metadata": {
        "colab": {
          "base_uri": "https://localhost:8080/"
        },
        "id": "KH6zKstGKZme",
        "outputId": "e617f63e-30e0-48a8-a00a-fcaee84a890a"
      },
      "execution_count": null,
      "outputs": [
        {
          "name": "stdout",
          "output_type": "stream",
          "text": [
            "Enter a number1 50\n"
          ]
        }
      ]
    },
    {
      "cell_type": "code",
      "source": [
        "a=int(input(\"Enter a number1 \"))\n",
        "b=float((input(\"Enter a number1 \")))\n",
        "avg=(a+b)/2\n",
        "print(avg)\n",
        "print(type(avg))\n",
        "print(type(a))\n",
        "print(type(b))"
      ],
      "metadata": {
        "id": "W7lxMYhVLKJb"
      },
      "execution_count": null,
      "outputs": []
    }
  ]
}